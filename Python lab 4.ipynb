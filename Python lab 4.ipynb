{
 "cells": [
  {
   "cell_type": "markdown",
   "metadata": {
    "id": "tR3XPBIIbY8O"
   },
   "source": [
    "# **4. Python program to find most frequent word in a text file**"
   ]
  },
  {
   "cell_type": "markdown",
   "metadata": {
    "id": "v-_vJK5_bjLr"
   },
   "source": [
    "Two methods to find the most frequent word in a text file:\n",
    "\n",
    "1. Using loops\n",
    "2. Using collections module  "
   ]
  },
  {
   "cell_type": "markdown",
   "metadata": {
    "id": "VxS8ZRo0b1SD"
   },
   "source": [
    "***1. Using loops***"
   ]
  },
  {
   "cell_type": "code",
   "execution_count": 3,
   "metadata": {
    "colab": {
     "base_uri": "https://localhost:8080/",
     "height": 235
    },
    "id": "O4fLO8DGbWQb",
    "outputId": "05e5325d-e382-4794-c3be-ef034ddb7b09"
   },
   "outputs": [
    {
     "name": "stdout",
     "output_type": "stream",
     "text": [
      "Most repeated word: to\n",
      "Max Count: 2\n"
     ]
    }
   ],
   "source": [
    "count = 0\n",
    "word = \"\";  \n",
    "maxCount = 0;  \n",
    "words = [];  \n",
    "   \n",
    "#Opens a file in read mode  \n",
    "file = open(\"data.txt\", \"r\")  \n",
    "      \n",
    "#Gets each line till end of file is reached  \n",
    "for line in file:  \n",
    "    #Splits each line into words  \n",
    "    string = line.lower().replace(',','').replace('.','').split(\" \");  \n",
    "    #Adding all words generated in previous step into words  \n",
    "    for s in string:  \n",
    "        words.append(s);  \n",
    "   \n",
    "#Determine the most repeated word in a file  \n",
    "for i in range(0, len(words)):  \n",
    "    count = 1;  \n",
    "    #Count each word in the file and store it in variable count  \n",
    "    for j in range(i+1, len(words)):  \n",
    "        if(words[i] == words[j]):  \n",
    "            count = count + 1;  \n",
    "              \n",
    "    #If maxCount is less than count then store value of count in maxCount  \n",
    "    #and corresponding word to variable word  \n",
    "    if(count > maxCount):  \n",
    "        maxCount = count;  \n",
    "        word = words[i];  \n",
    "          \n",
    "print(\"Most repeated word: \" + word); \n",
    "print(\"Max Count: \" + str(maxCount)) \n",
    "file.close();  \n"
   ]
  },
  {
   "cell_type": "markdown",
   "metadata": {
    "id": "-iAA7Chpb-um"
   },
   "source": [
    "***2. Using collection module*** \n",
    "\n",
    "Collections in Python are containers used for storing data and are commonly known as data structures, such as lists, tuples, arrays, dictionaries, etc.\n",
    "Python has a built-in collections module providing additional data structures for collections of data.\n",
    "\n",
    "Counter is a built-in data structure which is used to count the occurrence of each value present in an array or list."
   ]
  },
  {
   "cell_type": "code",
   "execution_count": 5,
   "metadata": {
    "id": "qFFir8qfbWQs",
    "outputId": "219e696b-3fa8-4aed-f408-e5185d16dbbb"
   },
   "outputs": [
    {
     "name": "stdout",
     "output_type": "stream",
     "text": [
      "[('to', 2), ('Welcome', 1), ('abes', 1), ('ec', 1), ('we', 1)]\n"
     ]
    }
   ],
   "source": [
    "words = []\n",
    "with open(\"data.txt\", \"r\") as f:\n",
    "    for line in f:\n",
    "        words.extend(line.split())\n",
    "\n",
    "from collections import Counter\n",
    "counts = Counter(words)\n",
    "top5 = counts.most_common(5)\n",
    "print(top5)"
   ]
  },
  {
   "cell_type": "code",
   "execution_count": null,
   "metadata": {
    "id": "aCNE6lRVbWQv"
   },
   "outputs": [],
   "source": []
  }
 ],
 "metadata": {
  "colab": {
   "collapsed_sections": [],
   "name": "Python lab 4.ipynb",
   "provenance": []
  },
  "kernelspec": {
   "display_name": "Python 3",
   "language": "python",
   "name": "python3"
  },
  "language_info": {
   "codemirror_mode": {
    "name": "ipython",
    "version": 3
   },
   "file_extension": ".py",
   "mimetype": "text/x-python",
   "name": "python",
   "nbconvert_exporter": "python",
   "pygments_lexer": "ipython3",
   "version": "3.8.3"
  }
 },
 "nbformat": 4,
 "nbformat_minor": 1
}

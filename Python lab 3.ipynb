{
 "cells": [
  {
   "cell_type": "markdown",
   "metadata": {},
   "source": [
    "# 3. Python program to find the gcd of two numbers"
   ]
  },
  {
   "cell_type": "markdown",
   "metadata": {},
   "source": [
    "Four methods to find GCD of two numbers:\n",
    "1. Using loops\n",
    "2. using math function\n",
    "3. using recursion\n",
    "4. using Euclidean algorithm\n"
   ]
  },
  {
   "cell_type": "markdown",
   "metadata": {},
   "source": [
    "##### 1. Using Loops"
   ]
  },
  {
   "cell_type": "code",
   "execution_count": 1,
   "metadata": {},
   "outputs": [
    {
     "name": "stdout",
     "output_type": "stream",
     "text": [
      "enter any number 1=140\n",
      "enter any number 2=20\n",
      "The gcd of 140 and 20 is :  20\n"
     ]
    }
   ],
   "source": [
    "#\n",
    "x=int(input(\"enter any number 1=\"))\n",
    "y=int(input(\"enter any number 2=\"))\n",
    "if x > y:\n",
    "    smaller = y\n",
    "else:\n",
    "    smaller = x\n",
    "for i in range(1, smaller+1):\n",
    "    if((x % i == 0) and (y % i == 0)):\n",
    "        gcd = i \n",
    "print(\"The gcd of\", x ,\"and\" ,y ,\"is : \", gcd)"
   ]
  },
  {
   "cell_type": "markdown",
   "metadata": {},
   "source": [
    "##### 2. Using math function"
   ]
  },
  {
   "cell_type": "code",
   "execution_count": 2,
   "metadata": {},
   "outputs": [
    {
     "name": "stdout",
     "output_type": "stream",
     "text": [
      "enter any number 1=140\n",
      "enter any number 2=20\n",
      "The gcd of 140 and 20 is : 20\n"
     ]
    }
   ],
   "source": [
    "import math\n",
    "x=int(input(\"enter any number 1=\"))\n",
    "y=int(input(\"enter any number 2=\"))\n",
    "# function\n",
    "print(\"The gcd of\", x ,\"and\" ,y ,\"is : \", end=\"\")\n",
    "print(math.gcd(x, y))"
   ]
  },
  {
   "cell_type": "markdown",
   "metadata": {},
   "source": [
    "##### 3. Using Recursion"
   ]
  },
  {
   "cell_type": "code",
   "execution_count": 3,
   "metadata": {},
   "outputs": [
    {
     "name": "stdout",
     "output_type": "stream",
     "text": [
      "enter any number 1=140\n",
      "enter any number 2=20\n",
      "The gcd of 140 and 20 is : 20\n"
     ]
    }
   ],
   "source": [
    "def gcd(a, b):\n",
    "    if(b == 0):\n",
    "        return a\n",
    "    else:\n",
    "        return gcd(b, a % b)\n",
    "  \n",
    "x=int(input(\"enter any number 1=\"))\n",
    "y=int(input(\"enter any number 2=\"))\n",
    "  \n",
    "# prints 12\n",
    "print(\"The gcd of\", x ,\"and\" ,y ,\"is : \", end=\"\")\n",
    "print(gcd(x, y))"
   ]
  },
  {
   "cell_type": "markdown",
   "metadata": {},
   "source": [
    "##### 4. Using Euclidean Algorithm\n",
    "The Euclid’s algorithm (or Euclidean Algorithm) is a method for efficiently finding the greatest common divisor (GCD) of two numbers. The GCD of two integers X and Y is the largest number that divides both of X and Y (without leaving a remainder).\n",
    "\n",
    "Pseudo Code of the Algorithm-\n",
    "\n",
    "1. Let  a, b  be the two numbers\n",
    "2. a mod b = R\n",
    "3. Let  a = b  and  b = R\n",
    "4. Repeat Steps 2 and 3 until  a mod b  is greater than 0\n",
    "5. GCD = b\n",
    "6. Finish"
   ]
  },
  {
   "cell_type": "code",
   "execution_count": 4,
   "metadata": {},
   "outputs": [
    {
     "name": "stdout",
     "output_type": "stream",
     "text": [
      "enter any number 1=140\n",
      "enter any number 2=20\n",
      "GCD of 140 and 20 is 20\n"
     ]
    }
   ],
   "source": [
    "# Recursive function to return gcd of a and b\n",
    "def gcd(a, b):\n",
    "    # Everything divides 0\n",
    "    if (a == 0):\n",
    "        return b\n",
    "    if (b == 0):\n",
    "        return a\n",
    "    # base case\n",
    "    if (a == b):\n",
    "        return a\n",
    "    # a is greater\n",
    "    if (a > b):\n",
    "        return gcd(a-b, b)\n",
    "    return gcd(a, b-a)\n",
    "  \n",
    "# Driver program to test above function\n",
    "x=int(input(\"enter any number 1=\"))\n",
    "y=int(input(\"enter any number 2=\"))\n",
    "if(gcd(x, y)):\n",
    "    print('GCD of', x, 'and', y, 'is', gcd(x, y))\n",
    "else:\n",
    "    print('not found')"
   ]
  },
  {
   "cell_type": "code",
   "execution_count": null,
   "metadata": {},
   "outputs": [],
   "source": []
  }
 ],
 "metadata": {
  "kernelspec": {
   "display_name": "Python 3",
   "language": "python",
   "name": "python3"
  },
  "language_info": {
   "codemirror_mode": {
    "name": "ipython",
    "version": 3
   },
   "file_extension": ".py",
   "mimetype": "text/x-python",
   "name": "python",
   "nbconvert_exporter": "python",
   "pygments_lexer": "ipython3",
   "version": "3.8.3"
  }
 },
 "nbformat": 4,
 "nbformat_minor": 5
}
